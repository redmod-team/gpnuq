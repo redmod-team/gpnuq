{
 "cells": [
  {
   "cell_type": "code",
   "execution_count": null,
   "metadata": {},
   "outputs": [],
   "source": [
    "import numpy as np\n",
    "import matplotlib.pyplot as plt\n",
    "import profit"
   ]
  },
  {
   "cell_type": "code",
   "execution_count": null,
   "metadata": {},
   "outputs": [],
   "source": [
    "def f(t, x):\n",
    "    return np.sin(5*x[0] + x[1]*t)\n",
    "\n",
    "t = np.linspace(0, 8*np.pi, 100)\n",
    "from profit.util import halton\n",
    "\n",
    "x = halton.halton(128, 2)\n",
    "y = []\n",
    "for xi in x:\n",
    "    y.append(f(t, xi))\n",
    "y = np.array(y)\n",
    "plt.figure()\n",
    "plt.plot(t, y.T)\n",
    "plt.show()"
   ]
  },
  {
   "cell_type": "code",
   "execution_count": null,
   "metadata": {},
   "outputs": [],
   "source": [
    "from profit.sur import linear_reduction\n",
    "\n",
    "kl = linear_reduction.KarhunenLoeve(y, 1e-2)\n",
    "yrec = kl.lift(kl.project(y))\n",
    "plt.figure()\n",
    "plt.plot((yrec-y).T)\n",
    "plt.show()"
   ]
  },
  {
   "cell_type": "code",
   "execution_count": null,
   "metadata": {},
   "outputs": [],
   "source": [
    "pca = linear_reduction.PCA(y, 1e-2)\n",
    "yrec2 = pca.lift(pca.project(y))\n",
    "plt.plot((yrec2-y).T)\n",
    "plt.show()"
   ]
  },
  {
   "cell_type": "code",
   "execution_count": null,
   "metadata": {},
   "outputs": [],
   "source": [
    "z_kl = kl.project(y)\n",
    "z_pca = pca.project(y)\n",
    "print(z_kl.shape)"
   ]
  },
  {
   "cell_type": "code",
   "execution_count": null,
   "metadata": {},
   "outputs": [],
   "source": [
    "import plotly.express as px\n",
    "\n",
    "zplot = z_kl[-2,:]\n",
    "\n",
    "px.scatter_3d(x=x[:,0], y=x[:,1], z=zplot, color=zplot)"
   ]
  },
  {
   "cell_type": "code",
   "execution_count": null,
   "metadata": {},
   "outputs": [],
   "source": [
    "px.scatter_3d(x=x[:,0], y=x[:,1], z=z_pca[:,-1], color=z_pca[:,-1])"
   ]
  },
  {
   "cell_type": "code",
   "execution_count": null,
   "metadata": {},
   "outputs": [],
   "source": [
    "from profit.sur import GPySurrogate\n",
    "\n",
    "k = -1\n",
    "sm = GPySurrogate()\n",
    "sm.train(x, z_kl[k,:])\n",
    "sm.plot()"
   ]
  },
  {
   "cell_type": "code",
   "execution_count": null,
   "metadata": {},
   "outputs": [],
   "source": [
    "# Construct surrogate model for each weight\n",
    "sms = []\n",
    "for k in range(len(kl.w)):\n",
    "    sms.append(GPySurrogate())\n",
    "    sms[-1].train(x, z_kl[k,:])"
   ]
  },
  {
   "cell_type": "code",
   "execution_count": null,
   "metadata": {},
   "outputs": [],
   "source": [
    "xtest = np.mgrid[0:1:11j,0:1:10j].reshape(2,-1).T"
   ]
  },
  {
   "cell_type": "code",
   "execution_count": null,
   "metadata": {},
   "outputs": [],
   "source": [
    "# Predict weights from surrogate\n",
    "pred = []\n",
    "for k in range(len(kl.w)):\n",
    "    pred.append(sms[k].predict(xtest))\n",
    "pred = np.array(pred)\n",
    "print(pred.shape)\n",
    "zpred = pred[:,0,:,0]\n",
    "sig2pred = pred[:,1,:,0]\n",
    "sig2y = kl.Q"
   ]
  },
  {
   "cell_type": "code",
   "execution_count": null,
   "metadata": {},
   "outputs": [],
   "source": [
    "# Decode weights to original space\n",
    "ktest = 9\n",
    "V = kl.dy.T @ kl.Q\n",
    "sig2y = V @ np.diag(sig2pred[:, ktest]) @ V.T + np.cov((yrec-y).T)\n",
    "confi = 2.0*np.sqrt(np.diag(sig2y))\n",
    "\n",
    "ypred = kl.lift(zpred)\n",
    "ytest = np.array([f(t, xi) for xi in xtest])\n",
    "plt.plot(t, ypred[ktest,:])\n",
    "plt.fill_between(t, ypred[ktest,:] - confi, ypred[ktest,:] + confi, alpha=0.3)\n",
    "plt.plot(t, ytest[ktest,:].T)\n",
    "plt.xlabel('t')\n",
    "plt.ylabel('f(t;x)')\n",
    "plt.legend(['Prediction', 'Reference'])\n",
    "plt.show()"
   ]
  },
  {
   "cell_type": "code",
   "execution_count": null,
   "metadata": {},
   "outputs": [],
   "source": [
    "np.cov((yrec-y).T)"
   ]
  },
  {
   "cell_type": "code",
   "execution_count": null,
   "metadata": {},
   "outputs": [],
   "source": [
    "V @ np.diag(sig2pred[:, ktest]) @ V.T"
   ]
  }
 ],
 "metadata": {
  "kernelspec": {
   "name": "python385jvsc74a57bd031f2aee4e71d21fbe5cf8b01ff0e069b9275f58929596ceb00d14d90e3e16cd6",
   "display_name": "Python 3.8.5 64-bit"
  },
  "language_info": {
   "codemirror_mode": {
    "name": "ipython",
    "version": 3
   },
   "file_extension": ".py",
   "mimetype": "text/x-python",
   "name": "python",
   "nbconvert_exporter": "python",
   "pygments_lexer": "ipython3",
   "version": "3.8.5"
  },
  "metadata": {
   "interpreter": {
    "hash": "5984c07bd85a09704efeebc43c280456997f3d9e1810f10980d19f89f173e200"
   }
  }
 },
 "nbformat": 4,
 "nbformat_minor": 2
}